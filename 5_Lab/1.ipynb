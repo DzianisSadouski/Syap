{
 "cells": [
  {
   "cell_type": "code",
   "execution_count": 1,
   "id": "b2fee377-b8c4-47f6-ab53-9b26196c20fc",
   "metadata": {},
   "outputs": [],
   "source": [
    "from IPython.core.interactiveshell import InteractiveShell\n",
    "InteractiveShell.asd_node_interactivity = \"all\""
   ]
  },
  {
   "cell_type": "code",
   "execution_count": 2,
   "id": "df77deba-655b-4f77-b683-123fdf849be5",
   "metadata": {},
   "outputs": [],
   "source": [
    "import numpy as np"
   ]
  },
  {
   "cell_type": "code",
   "execution_count": 3,
   "id": "c1efb0b3-4aff-4e29-9138-514cb9f1ca3a",
   "metadata": {},
   "outputs": [],
   "source": [
    "def isint(s):\n",
    "    try:\n",
    "        int(s)\n",
    "        return True\n",
    "    except(ValueError, TypeError):\n",
    "        return False"
   ]
  },
  {
   "cell_type": "markdown",
   "id": "9f618a67-cc04-4a08-a580-8b44e17d24bb",
   "metadata": {},
   "source": [
    "$$ Задание 1.1 $$\n",
    "Расчет по фомуле: $y = \\frac{\\sin\\frac{pi}{6} + \\sqrt{3 + x^2} - \\ln{(x - 1)^3}}{arcsin\\frac{x}{2}}$, при $x = 1.59$"
   ]
  },
  {
   "cell_type": "code",
   "execution_count": 4,
   "id": "c0cf6b1e-096a-4c9f-981c-f20a7210e0be",
   "metadata": {},
   "outputs": [
    {
     "name": "stdout",
     "output_type": "stream",
     "text": [
      "3.262\n"
     ]
    }
   ],
   "source": [
    "x = 1.59\n",
    "y = (np.sin(np.pi/6) + np.sqrt(3 + x**2) - np.log(x - 1)**3) / np.arcsin(x/2)\n",
    "print(\"{:.3f}\" .format(y))"
   ]
  },
  {
   "cell_type": "markdown",
   "id": "4d740e03-9421-4bf1-99e0-c515d8007ec4",
   "metadata": {},
   "source": [
    "$$ Задание 1.2 $$\n",
    "Найти оценки уравнения регрессии, используя метод наименьших квадратов и матричную форму записи уравнений: $$ A = (X^T * X)^{-1} * (X^T * Y) $$"
   ]
  },
  {
   "cell_type": "code",
   "execution_count": 5,
   "id": "7d6b622b-3b25-4117-b6e5-ddeb31b2f837",
   "metadata": {},
   "outputs": [
    {
     "name": "stdin",
     "output_type": "stream",
     "text": [
      "N =  20\n"
     ]
    },
    {
     "name": "stdout",
     "output_type": "stream",
     "text": [
      "Матрица после вычисления: \n",
      " [[ 1.40290782e+01]\n",
      " [-7.08564215e-03]\n",
      " [ 3.65864946e-02]]\n",
      "Значение Y после формулы: \n",
      " [[16.72101325]\n",
      " [16.40706437]\n",
      " [16.15688626]\n",
      " [16.8001136 ]\n",
      " [16.42123565]\n",
      " [16.19231447]\n",
      " [16.19231447]\n",
      " [16.36931959]\n",
      " [16.11914148]\n",
      " [16.51450728]\n",
      " [16.04712678]\n",
      " [16.82961445]]\n",
      "Исходное значени Y: \n",
      " [[17.49155688]\n",
      " [17.48769196]\n",
      " [15.49994882]\n",
      " [14.7183323 ]\n",
      " [15.25807858]\n",
      " [14.35583553]\n",
      " [17.7757565 ]\n",
      " [13.82312144]\n",
      " [15.93213131]\n",
      " [18.23806495]\n",
      " [17.7865596 ]\n",
      " [18.40357377]]\n"
     ]
    }
   ],
   "source": [
    "x = np.zeros(shape=(12, 3), dtype=int)\n",
    "x[:, 0] = 1\n",
    "N = input(\"N = \")\n",
    "if isint(N):\n",
    "    N = int(N)\n",
    "    for i in range(12):\n",
    "        x[i, 1] = np.random.randint(N, N+12)\n",
    "        x[i, 2] = np.random.randint(60, 82)\n",
    "    Y = np.random.uniform(13.5, 18.6, 12).reshape(12, 1)\n",
    "    A = (np.linalg.matrix_power(np.transpose(x).dot(x), -1)).dot(np.transpose(x).dot(Y))\n",
    "    print(\"Матрица после вычисления: \\n\", A)\n",
    "    Z = A[0] * x[:, 0] + A[1] * x[:, 1] + A[2] * x[:, 2]\n",
    "    print(\"Значение Y после формулы: \\n\", Z.reshape(12, 1))\n",
    "    print(\"Исходное значени Y: \\n\", Y)\n",
    "else:\n",
    "    print(\"Введите целое число\")"
   ]
  },
  {
   "cell_type": "markdown",
   "id": "842e032a-db9f-4b8e-a5fa-5c0090228f89",
   "metadata": {},
   "source": [
    " "
   ]
  }
 ],
 "metadata": {
  "kernelspec": {
   "display_name": "Python 3 (ipykernel)",
   "language": "python",
   "name": "python3"
  },
  "language_info": {
   "codemirror_mode": {
    "name": "ipython",
    "version": 3
   },
   "file_extension": ".py",
   "mimetype": "text/x-python",
   "name": "python",
   "nbconvert_exporter": "python",
   "pygments_lexer": "ipython3",
   "version": "3.12.0"
  }
 },
 "nbformat": 4,
 "nbformat_minor": 5
}
